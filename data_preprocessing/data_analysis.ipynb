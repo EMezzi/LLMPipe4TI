{
 "cells": [
  {
   "cell_type": "code",
   "execution_count": 4,
   "id": "initial_id",
   "metadata": {
    "collapsed": true,
    "ExecuteTime": {
     "end_time": "2024-05-16T12:25:06.464861Z",
     "start_time": "2024-05-16T12:25:06.453112Z"
    }
   },
   "outputs": [],
   "source": [
    "import pandas as pd\n",
    "from PyPDF2 import PdfReader\n",
    "import os\n",
    "import seaborn as sns\n",
    "import matplotlib.pyplot as plt\n",
    "import numpy as np\n",
    "import json"
   ]
  },
  {
   "cell_type": "code",
   "execution_count": 15,
   "outputs": [],
   "source": [
    "def count_tokens():\n",
    "    total_word_count, total_token_count = 0, 0\n",
    "    total_reports = len(os.listdir('../datasets/pdf_json/'))\n",
    "    print(\"Total reports: \", total_reports)\n",
    "    for i, report in enumerate(os.listdir('../datasets/pdf_json/')): \n",
    "        try:\n",
    "            with open(f'../datasets/pdf_json/{report}', 'rb') as json_file:\n",
    "                text = json.load(json_file)['text']\n",
    "                text = text.strip(\"\")\n",
    "                \n",
    "                word_count = len(text.split(' '))\n",
    "                token_count = int(word_count * 1.33)\n",
    "                \n",
    "                total_word_count += int(word_count)\n",
    "                total_token_count += int(token_count)\n",
    "                \n",
    "        except Exception as e:\n",
    "            print(f\"Exception {e}\")\n",
    "\n",
    "    return (total_word_count, total_token_count, total_word_count / total_reports, \n",
    "            total_token_count / total_reports)"
   ],
   "metadata": {
    "collapsed": false,
    "ExecuteTime": {
     "end_time": "2024-05-16T12:36:20.392178Z",
     "start_time": "2024-05-16T12:36:20.387101Z"
    }
   },
   "id": "ae40158662fb45a7"
  },
  {
   "cell_type": "code",
   "execution_count": 16,
   "outputs": [
    {
     "name": "stdout",
     "output_type": "stream",
     "text": [
      "Total reports:  322\n",
      "Total word count:  969026\n",
      "Total number of tokens:  1288647\n",
      "Average word count:  3009.3975155279504\n",
      "Average token count:  4002.009316770186\n"
     ]
    }
   ],
   "source": [
    "total_word_count, total_token_count, average_word_count, average_token_count = count_tokens()\n",
    "print(\"Total word count: \", total_word_count)\n",
    "print(\"Total number of tokens: \", total_token_count)\n",
    "print(\"Average word count: \", average_word_count)\n",
    "print(\"Average token count: \", average_token_count)"
   ],
   "metadata": {
    "collapsed": false,
    "ExecuteTime": {
     "end_time": "2024-05-16T12:36:21.290010Z",
     "start_time": "2024-05-16T12:36:21.181038Z"
    }
   },
   "id": "3e70b471bc0ba0bc"
  },
  {
   "cell_type": "code",
   "execution_count": 67,
   "outputs": [
    {
     "name": "stdout",
     "output_type": "stream",
     "text": [
      "(1000, 2000) 118\n",
      "(2000, 3000) 75\n",
      "(0, 1000) 37\n",
      "(3000, 4000) 28\n",
      "(4000, 5000) 17\n",
      "(5000, 6000) 16\n",
      "(6000, 7000) 10\n",
      "(7000, 8000) 9\n",
      "(8000, 9000) 6\n",
      "(13000, 14000) 5\n",
      "(9000, 10000) 3\n",
      "(11000, 12000) 3\n",
      "(12000, 13000) 3\n",
      "(22000, 23000) 3\n",
      "(35000, 36000) 3\n",
      "(57000, 58000) 3\n",
      "(14000, 15000) 2\n",
      "(21000, 22000) 2\n",
      "(29000, 30000) 2\n",
      "(34000, 35000) 2\n",
      "(148000, 149000) 2\n",
      "(167000, 168000) 2\n",
      "(10000, 11000) 1\n",
      "(15000, 16000) 1\n",
      "(17000, 18000) 1\n",
      "(18000, 19000) 1\n",
      "(20000, 21000) 1\n",
      "(24000, 25000) 1\n",
      "(31000, 32000) 1\n",
      "(32000, 33000) 1\n",
      "(37000, 38000) 1\n",
      "(42000, 43000) 1\n",
      "(47000, 48000) 1\n",
      "(48000, 49000) 1\n",
      "(49000, 50000) 1\n",
      "(50000, 51000) 1\n",
      "(51000, 52000) 1\n",
      "(53000, 54000) 1\n",
      "(62000, 63000) 1\n",
      "(68000, 69000) 1\n",
      "(69000, 70000) 1\n",
      "(70000, 71000) 1\n",
      "(72000, 73000) 1\n",
      "(75000, 76000) 1\n",
      "(79000, 80000) 1\n",
      "(89000, 90000) 1\n",
      "(90000, 91000) 1\n",
      "(107000, 108000) 1\n",
      "(114000, 115000) 1\n",
      "(134000, 135000) 1\n",
      "(136000, 137000) 1\n",
      "(168000, 169000) 1\n",
      "(176000, 177000) 1\n",
      "(177000, 178000) 1\n",
      "(179000, 180000) 1\n",
      "(210000, 211000) 1\n",
      "(213000, 214000) 1\n",
      "(219000, 220000) 1\n",
      "(250000, 251000) 1\n",
      "(264000, 265000) 1\n",
      "(300000, 301000) 1\n",
      "(312000, 313000) 1\n",
      "(330000, 331000) 1\n",
      "(340000, 341000) 1\n",
      "(355000, 356000) 1\n",
      "(373000, 374000) 1\n",
      "(398000, 399000) 1\n",
      "(506000, 507000) 1\n",
      "(717000, 718000) 1\n",
      "(773000, 774000) 1\n",
      "(1019000, 1020000) 1\n",
      "(1054000, 1055000) 1\n",
      "(1055000, 1056000) 1\n",
      "(1162000, 1163000) 1\n",
      "(4861000, 4862000) 1\n"
     ]
    }
   ],
   "source": [
    "count = {}\n",
    "for i in range(0, max(token_per_report.values()) + 1000, 1000):\n",
    "    count[(i, i + 1000)] = sum(1 for value in token_per_report.values() if value > i and value < i + 1000)\n",
    "    \n",
    "count_sorted = {k: v for k, v in sorted(count.items(), key=lambda item: item[1], reverse=True)}\n",
    "\n",
    "for key in count_sorted.keys(): \n",
    "    if count[key] != 0: \n",
    "        print(key, count_sorted[key])"
   ],
   "metadata": {
    "collapsed": false,
    "ExecuteTime": {
     "end_time": "2024-03-28T11:07:44.531182Z",
     "start_time": "2024-03-28T11:07:44.488565Z"
    }
   },
   "id": "8c02cb12d25af7d"
  },
  {
   "cell_type": "code",
   "execution_count": 45,
   "outputs": [],
   "source": [
    "def tokens_distribution(token_per_report):\n",
    "    plt.hist(np.array(list(token_per_report.values()))/1000, bins=200, edgecolor='black')\n",
    "    plt.xlabel('Number of words')\n",
    "    plt.ylabel('Number of report')\n",
    "    plt.title('Histogram of Numbers')\n",
    "    plt.grid(True)\n",
    "    plt.show()"
   ],
   "metadata": {
    "collapsed": false,
    "ExecuteTime": {
     "end_time": "2024-03-28T10:48:46.054165Z",
     "start_time": "2024-03-28T10:48:46.044733Z"
    }
   },
   "id": "a203ed48f17507a8"
  },
  {
   "cell_type": "code",
   "execution_count": 46,
   "outputs": [
    {
     "data": {
      "text/plain": "<Figure size 640x480 with 1 Axes>",
      "image/png": "[encoded data removed]"
     },
     "metadata": {},
     "output_type": "display_data"
    }
   ],
   "source": [
    "tokens_distribution(token_per_report)"
   ],
   "metadata": {
    "collapsed": false,
    "ExecuteTime": {
     "end_time": "2024-03-28T10:48:47.169082Z",
     "start_time": "2024-03-28T10:48:46.722068Z"
    }
   },
   "id": "65c7f5dba0229c63"
  },
  {
   "cell_type": "code",
   "execution_count": 16,
   "outputs": [
    {
     "data": {
      "text/plain": "<Figure size 640x480 with 1 Axes>",
      "image/png": "[encoded data removed]"
     },
     "metadata": {},
     "output_type": "display_data"
    }
   ],
   "source": [
    "data = {\n",
    "    'Document1': 10,\n",
    "    'Document2': 20,\n",
    "    'Document3': 15,\n",
    "    'Document4': 25,\n",
    "    'Document5': 18\n",
    "}\n",
    "\n",
    "# Extract document names and corresponding numbers\n",
    "documents = list(data.keys())\n",
    "numbers = list(data.values())\n",
    "\n",
    "sns.histplot(data=data)\n",
    "plt.show()"
   ],
   "metadata": {
    "collapsed": false,
    "ExecuteTime": {
     "end_time": "2024-03-28T10:31:17.524288Z",
     "start_time": "2024-03-28T10:31:17.416174Z"
    }
   },
   "id": "7dfbf29dacf872c4"
  },
  {
   "cell_type": "code",
   "execution_count": null,
   "outputs": [],
   "source": [],
   "metadata": {
    "collapsed": false
   },
   "id": "c357885ce2090057"
  }
 ],
 "metadata": {
  "kernelspec": {
   "display_name": "Python 3",
   "language": "python",
   "name": "python3"
  },
  "language_info": {
   "codemirror_mode": {
    "name": "ipython",
    "version": 2
   },
   "file_extension": ".py",
   "mimetype": "text/x-python",
   "name": "python",
   "nbconvert_exporter": "python",
   "pygments_lexer": "ipython2",
   "version": "2.7.6"
  }
 },
 "nbformat": 4,
 "nbformat_minor": 5
}
